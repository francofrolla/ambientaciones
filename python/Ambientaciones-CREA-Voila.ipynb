{
 "cells": [
  {
   "cell_type": "markdown",
   "id": "blind-junior",
   "metadata": {},
   "source": [
    "# Ambientaciones de Lotes Bajos "
   ]
  },
  {
   "cell_type": "code",
   "execution_count": 1,
   "id": "connected-exploration",
   "metadata": {},
   "outputs": [],
   "source": [
    "import ee\n",
    "ee.Initialize()\n",
    "import ambientacionesff as ambff\n",
    "import config\n",
    "#Genero la carpeta temporal\n",
    "import os \n",
    "from os import path\n",
    "\n",
    "dirName = 'temp'\n",
    "\n",
    "if path.exists(\"temp\") == False:\n",
    " os.mkdir(dirName)\n"
   ]
  },
  {
   "cell_type": "markdown",
   "id": "affiliated-shareware",
   "metadata": {},
   "source": [
    "# Mapa para visualizaciones"
   ]
  },
  {
   "cell_type": "code",
   "execution_count": 2,
   "id": "advanced-algorithm",
   "metadata": {
    "scrolled": true
   },
   "outputs": [
    {
     "data": {
      "application/vnd.jupyter.widget-view+json": {
       "model_id": "34b55df80454401587ca6dc06d8645fb",
       "version_major": 2,
       "version_minor": 0
      },
      "text/plain": [
       "Map(center=[-36, -63], controls=(WidgetControl(options=['position', 'transparent_bg'], widget=HBox(children=(T…"
      ]
     },
     "metadata": {},
     "output_type": "display_data"
    }
   ],
   "source": [
    "import geemap\n",
    "#import geemap.eefolium as geemap\n",
    "Map = geemap.Map(center=[-36,-63], zoom=4)\n",
    "url = 'http://www.google.cn/maps/vt?lyrs=s@189&gl=cn&x={x}&y={y}&z={z}'\n",
    "Map.add_tile_layer(url, name='Google Map', attribution='Google')\n",
    "Map.addLayerControl()\n",
    "\n",
    "\n",
    "Map"
   ]
  },
  {
   "cell_type": "code",
   "execution_count": 3,
   "id": "north-scott",
   "metadata": {},
   "outputs": [
    {
     "data": {
      "application/vnd.jupyter.widget-view+json": {
       "model_id": "dd8e002c1f954d038ae7c22712127a10",
       "version_major": 2,
       "version_minor": 0
      },
      "text/plain": [
       "FileUpload(value={}, accept='.kml', button_style='primary', description='KML')"
      ]
     },
     "metadata": {},
     "output_type": "display_data"
    }
   ],
   "source": [
    "import ipywidgets as widgets\n",
    "\n",
    "uploader = widgets.FileUpload(button_style='primary',  accept='.kml',description=\"KML\")\n",
    "display(uploader)"
   ]
  },
  {
   "cell_type": "code",
   "execution_count": 5,
   "id": "martial-bolivia",
   "metadata": {},
   "outputs": [
    {
     "data": {
      "application/vnd.jupyter.widget-view+json": {
       "model_id": "a6e0afb7b37648ffa49974f260b376a2",
       "version_major": 2,
       "version_minor": 0
      },
      "text/plain": [
       "VBox(children=(HBox(children=(Button(button_style='primary', description='Agregar Lote', style=ButtonStyle(), …"
      ]
     },
     "metadata": {},
     "output_type": "display_data"
    },
    {
     "name": "stderr",
     "output_type": "stream",
     "text": [
      "C:\\Users\\Usuario\\miniconda3\\envs\\AmbientadorFFNP\\lib\\site-packages\\geopandas\\geodataframe.py:577: RuntimeWarning: Sequential read of iterator was interrupted. Resetting iterator. This can negatively impact the performance.\n",
      "  for feature in features_lst:\n"
     ]
    },
    {
     "name": "stdout",
     "output_type": "stream",
     "text": [
      "Archivo cargado\n"
     ]
    }
   ],
   "source": [
    "import config\n",
    "import ee\n",
    "import json\n",
    "import tempfile\n",
    "import geopandas as gpd\n",
    "from ipywidgets import Checkbox, HBox, VBox\n",
    "import ipywidgets as widgets\n",
    "\n",
    "import importlib\n",
    "\n",
    "style = {'description_width': 'initial'}\n",
    "\n",
    "output = widgets.Output()\n",
    "output1 = widgets.Output()\n",
    "\n",
    "\n",
    "subirkml = widgets.Button(\n",
    "    description='Agregar Lote',\n",
    "    button_style='primary',\n",
    "    tooltip='Click para buscar imagenes',\n",
    "    style=style\n",
    ")\n",
    "   \n",
    "\n",
    "def subirkml_clicked(b):\n",
    "    \n",
    " with output:\n",
    "        print(\"Iniciando...\")\n",
    " llaves = uploader.value.keys()\n",
    " \n",
    " if llaves.__len__() != 0:\n",
    "    try:\n",
    "        nombre = list(llaves)\n",
    "        nombre_archivo = nombre[0]\n",
    "\n",
    "        contents = uploader.value[nombre_archivo]['content']\n",
    "        contents.decode(\"utf-8\") \n",
    "\n",
    "        f = open(\"temp/lote.kml\", \"w\")\n",
    "        f.write(contents.decode(\"utf-8\"))\n",
    "        f.close()\n",
    "\n",
    "        geojson,df1,nombrelote = ambff.ingresar_poligono(nombre_archivo,\"temp/lote.kml\")\n",
    "        with output:\n",
    "            print(\"Archivo cargado\")\n",
    "        #Grafico\n",
    "        d = json.loads(geojson)\n",
    "        geometria = (d['features'][0][\"geometry\"][\"coordinates\"])\n",
    "        lote = ee.Geometry.Polygon(geometria[0])\n",
    "        config.lote = lote\n",
    "        Map.addLayer(lote,{}, \"Lotes\")\n",
    "        Map.centerObject(lote, 14)\n",
    "        \n",
    "        datos_lote,coleccion,lote = ambff.busqueda_imagenes(output,config.lote,2017,2020,1,12)\n",
    "        ambff.graficar_series(output1,datos_lote)\n",
    "    \n",
    "    except:\n",
    "     with output:\n",
    "         print(\"No se cargo un archivo valido, por favor revise el geojson o visite https://github.com/francofrolla/ \")\n",
    "    \n",
    "       \n",
    "    \n",
    " if llaves.__len__() == 0:\n",
    "  lote = \"error\"\n",
    "  with output:\n",
    "   print(\"No se selecciono ningun archivo\")\n",
    "\n",
    " return \n",
    " \n",
    "  \n",
    "\n",
    "subirkml.on_click(subirkml_clicked)\n",
    "graficas = HBox([subirkml,output])\n",
    "VBox([graficas,output1])"
   ]
  },
  {
   "cell_type": "markdown",
   "id": "supposed-retail",
   "metadata": {},
   "source": [
    "# Genero composición mensual de Sentinel 2, descargo datos y grafico"
   ]
  },
  {
   "cell_type": "code",
   "execution_count": null,
   "id": "aboriginal-submission",
   "metadata": {},
   "outputs": [],
   "source": [
    "datos_lote,coleccion,lote = ambff.busqueda_imagenes(output,config.lote,2017,2020,1,12)\n",
    "ambff.graficar_series(output1,datos_lote)\n"
   ]
  },
  {
   "cell_type": "code",
   "execution_count": null,
   "id": "consolidated-monkey",
   "metadata": {},
   "outputs": [],
   "source": [
    "from ipywidgets import Checkbox, HBox, VBox\n",
    "from IPython.display import display, clear_output\n",
    "import ipyleaflet\n",
    "import ipywidgets as widgets\n",
    "\n",
    "\n",
    "#CONSTANTES DEL MAPA\n",
    "#palette = ['#FFFFFF', '#CE7E45', '#DF923D', '#F1B555', '#FCD163', '#99B718', '#74A901', '#66A000', '#529400', '#3E8601', '#207401', '#056201', '#004C00', '#023B01', '#012E01', '#011D01', '#011301']\n",
    "#Map.add_colorbar_branca(colors=palette,vmin=0.2,vmax=0.7)\n",
    "output_widget = widgets.Output(layout={'border': '1px solid black',\"font_weight\": \"5px\"})\n",
    "output_control = ipyleaflet.WidgetControl(widget=output_widget, position='bottomleft')\n",
    "Map.add_control(output_control)\n",
    "\n",
    "#selfechas = widgets.Dropdown(\n",
    "#    options=config.listaid,\n",
    "#    value=config.listaid[0],\n",
    "#    description='Seleccione Fecha:',\n",
    "#    disabled=False,\n",
    "#)\n",
    "years = [2017,2018,2019,2020]\n",
    "mes = [1,2,3,4,5,6,7,8,9,10,11,12]\n",
    "\n",
    "selyear = widgets.Dropdown(\n",
    "    options=years,\n",
    "    value=years[0],\n",
    "    description='Año:',\n",
    "    disabled=False,\n",
    ")\n",
    "\n",
    "selmes = widgets.Dropdown(\n",
    "    options=mes,\n",
    "    value=mes[0],\n",
    "    description='Mes:',\n",
    "    disabled=False,\n",
    ")\n",
    "\n",
    "\n",
    "boton1 = widgets.Button(description='Graficar NDVI',button_style='primary')\n",
    "boton2 = widgets.Button(description='Graficar',button_style='primary')\n",
    "\n",
    "out1 = widgets.Output()\n",
    "\n",
    "\n",
    "def graficar_onclicked(b):\n",
    " with out1:\n",
    "  texto = \"Cargando...\"\n",
    " \n",
    " coleccion1 = coleccion.filterMetadata('year', 'equals', str(selyear.value))\n",
    " coleccion1 = coleccion1.filterMetadata('month', 'equals', selmes.value)\n",
    " escena = ee.Image(coleccion1.first().select([\"NDVI\"]))\n",
    "\n",
    " params = escena.reduceRegion(\n",
    "           reducer= ee.Reducer.percentile([10, 90]), \n",
    "           geometry= lote, \n",
    "           scale= 10,\n",
    "           )\n",
    "\n",
    " parametros = params.getInfo()\n",
    " min_valor = [parametros['NDVI_p10']]\n",
    " max_valor = [parametros['NDVI_p90']]\n",
    "\n",
    " vis_params = {\n",
    "              'min': min_valor,\n",
    "              'max': max_valor,\n",
    "              'palette': ['FFFFFF', 'CE7E45', 'DF923D', 'F1B555', 'FCD163', '99B718', '74A901', '66A000', '529400', '3E8601', '207401', '056201', '004C00', '023B01', '012E01', '011D01', '011301']}\n",
    " \n",
    " fecha = str(selyear.value)+\" \"+str(selmes.value)\n",
    " with out1:\n",
    "  texto = \"Graficando imagen \"+fecha+\" NDVI min:\"+ str(min_valor) +\" NDVI max:\"+ str(max_valor) \n",
    "  print(texto)\n",
    "\n",
    " Map.addLayer(escena, vis_params, fecha)\n",
    "\n",
    " with output_widget:\n",
    "  clear_output()\n",
    "  print(texto)\n",
    "\n",
    "def graficar_cv_onclicked(b):\n",
    " #Borro lo anterior\n",
    " coleccion1 = coleccion.filterMetadata('year', 'equals', str(selyear.value))\n",
    " coleccion1 = coleccion1.filterMetadata('month', 'equals', selmes.value)\n",
    " escena = ee.Image(coleccion1.first())\n",
    " \n",
    " \n",
    " fecha = str(selyear.value)+\" \"+str(selmes.value)\n",
    "\n",
    " params = escena.select([\"B4\",\"B3\",\"B2\"]).reduceRegion(\n",
    "      reducer= ee.Reducer.percentile([5, 95]), \n",
    "      geometry= lote, \n",
    "      scale= 10,\n",
    "      )\n",
    " parametros = params.getInfo()\n",
    " min_escena = [parametros['B4_p5'], parametros['B3_p5'], parametros['B2_p5']]\n",
    " max_escena = [parametros['B4_p95'], parametros['B3_p95'], parametros['B2_p95']]\n",
    "\n",
    " vis_params = {\n",
    "              'bands':['B4', 'B3', 'B2'],\n",
    "              'min': min_escena,\n",
    "              'max': max_escena,\n",
    "               }\n",
    "\n",
    " with out1:\n",
    "  texto = \"Graficando imagen \"+fecha \n",
    "  print(fecha)\n",
    "\n",
    " Map.addLayer(escena, vis_params, fecha)\n",
    "\n",
    " with output_widget:\n",
    "  clear_output()\n",
    "  print(\"Graficando\" + texto)\n",
    "  \n",
    "\n",
    "boton1.on_click(graficar_onclicked)\n",
    "boton2.on_click(graficar_cv_onclicked)\n",
    "\n",
    "botones = HBox([selyear,selmes,boton1,boton2])\n",
    "VBox([botones,out1])"
   ]
  },
  {
   "cell_type": "code",
   "execution_count": null,
   "id": "impossible-instruction",
   "metadata": {},
   "outputs": [],
   "source": [
    "%%time\n",
    "\n",
    "#Descargar imagenes via link\n",
    "\n",
    "años=[2018]\n",
    "meses=[10]\n",
    "\n",
    "def funcion_sentinel(coleccion,años,meses):\n",
    "    laimagen = ee.Image()\n",
    "    for i in meses:\n",
    "     coleccion1 = coleccion.filterMetadata('year', 'equals', años)\n",
    "     coleccion1 = coleccion1.filterMetadata('month', 'equals', i)\n",
    "     imagen = ee.Image(coleccion1.first().select([\"NDVI\"])).rename(str(i))\n",
    "     laimagen = laimagen.addBands(imagen)\n",
    "    \n",
    "    nombre = str(años)\n",
    "    print(nombre)\n",
    "    print(\"Descargando...\")\n",
    "    path = laimagen.getDownloadUrl({\n",
    "      'name': nombre,\n",
    "      'scale' : 10,\n",
    "      'region' : lote})\n",
    "    print(path)\n",
    "    return laimagen, nombre\n",
    "\n",
    "\n",
    "\n",
    "#Año tiene que estar en formato string\n",
    "#Meses en int\n",
    "\n",
    "Recorte, nombre = funcion_sentinel(coleccion,str(años[0]),meses)"
   ]
  },
  {
   "cell_type": "markdown",
   "id": "built-thumb",
   "metadata": {},
   "source": [
    "# Aca se termino el script"
   ]
  },
  {
   "cell_type": "code",
   "execution_count": null,
   "id": "undefined-following",
   "metadata": {},
   "outputs": [],
   "source": []
  }
 ],
 "metadata": {
  "kernelspec": {
   "display_name": "Python 3",
   "language": "python",
   "name": "python3"
  },
  "language_info": {
   "codemirror_mode": {
    "name": "ipython",
    "version": 3
   },
   "file_extension": ".py",
   "mimetype": "text/x-python",
   "name": "python",
   "nbconvert_exporter": "python",
   "pygments_lexer": "ipython3",
   "version": "3.9.2"
  }
 },
 "nbformat": 4,
 "nbformat_minor": 5
}
