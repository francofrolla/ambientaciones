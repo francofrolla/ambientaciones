{
 "cells": [
  {
   "cell_type": "code",
   "execution_count": 2,
   "id": "linear-rapid",
   "metadata": {},
   "outputs": [
    {
     "data": {
      "application/vnd.jupyter.widget-view+json": {
       "model_id": "da392cd1e83e48b4b13129fa8094a24b",
       "version_major": 2,
       "version_minor": 0
      },
      "text/plain": [
       "Output()"
      ]
     },
     "metadata": {},
     "output_type": "display_data"
    }
   ],
   "source": [
    "import ambientacionesff as ambff\n",
    "\n",
    "from ipywidgets import Checkbox, HBox, VBox\n",
    "import ipywidgets as widgets\n",
    "\n",
    "output = widgets.Output()\n",
    "\n",
    "\n",
    "\n",
    "display(output)"
   ]
  },
  {
   "cell_type": "code",
   "execution_count": 3,
   "id": "technical-promise",
   "metadata": {},
   "outputs": [],
   "source": [
    "ambff.imprimir(output)"
   ]
  },
  {
   "cell_type": "code",
   "execution_count": null,
   "id": "flexible-vertex",
   "metadata": {},
   "outputs": [],
   "source": []
  }
 ],
 "metadata": {
  "kernelspec": {
   "display_name": "Python 3",
   "language": "python",
   "name": "python3"
  },
  "language_info": {
   "codemirror_mode": {
    "name": "ipython",
    "version": 3
   },
   "file_extension": ".py",
   "mimetype": "text/x-python",
   "name": "python",
   "nbconvert_exporter": "python",
   "pygments_lexer": "ipython3",
   "version": "3.9.2"
  }
 },
 "nbformat": 4,
 "nbformat_minor": 5
}
